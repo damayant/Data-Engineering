{
 "cells": [],
 "metadata": {
  "kernelspec": {
   "display_name": "Python 3",
   "language": "python",
   "name": "python3"
  },
  "language_info": {
   "codemirror_mode": {
    "name": "ipython",
    "version": 2
   },
   "file_extension": ".py",
   "mimetype": "text/x-python",
   "name": "python",
   "nbconvert_exporter": "python",
   "pygments_lexer": "ipython2",
   "version": "2.7.6"
  },
  "pycharm": {
   "stem_cell": {
    "cell_type": "raw",
    "source": [
     "# DROP TABLES\n",
     "\n",
     "songplay_table_drop = \"\"\n",
     "user_table_drop = \"\"\n",
     "song_table_drop = \"\"\n",
     "artist_table_drop = \"\"\n",
     "time_table_drop = \"\"\n",
     "\n",
     "# CREATE TABLES\n",
     "\n",
     "songplay_table_create = (\"\"\"\n",
     "\"\"\")\n",
     "\n",
     "user_table_create = (\"\"\"\n",
     "\"\"\")\n",
     "\n",
     "song_table_create = (\"\"\"\n",
     "\"\"\")\n",
     "\n",
     "artist_table_create = (\"\"\"\n",
     "\"\"\")\n",
     "\n",
     "time_table_create = (\"\"\"\n",
     "\"\"\")\n",
     "\n",
     "# INSERT RECORDS\n",
     "\n",
     "songplay_table_insert = (\"\"\"\n",
     "\"\"\")\n",
     "\n",
     "user_table_insert = (\"\"\"\n",
     "\"\"\")\n",
     "\n",
     "song_table_insert = (\"\"\"\n",
     "\"\"\")\n",
     "\n",
     "artist_table_insert = (\"\"\"\n",
     "\"\"\")\n",
     "\n",
     "\n",
     "time_table_insert = (\"\"\"\n",
     "\"\"\")\n",
     "\n",
     "# FIND SONGS\n",
     "\n",
     "song_select = (\"\"\"\n",
     "\"\"\")\n",
     "\n",
     "# QUERY LISTS\n",
     "\n",
     "create_table_queries = [songplay_table_create, user_table_create, song_table_create, artist_table_create, time_table_create]\n",
     "drop_table_queries = [songplay_table_drop, user_table_drop, song_table_drop, artist_table_drop, time_table_drop]\n",
     "\n"
    ],
    "metadata": {
     "collapsed": false
    }
   }
  }
 },
 "nbformat": 4,
 "nbformat_minor": 0
}